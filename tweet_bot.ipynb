{
 "cells": [
  {
   "cell_type": "code",
   "execution_count": 4,
   "metadata": {},
   "outputs": [
    {
     "name": "stdout",
     "output_type": "stream",
     "text": [
      "3.8.9 (default, Aug 21 2021, 15:53:23) \n",
      "[Clang 13.0.0 (clang-1300.0.29.3)]\n"
     ]
    }
   ],
   "source": [
    "#Import the Libraries\n",
    "\n",
    "\n",
    "import sys\n",
    "print(sys.version)\n",
    "\n",
    "\n",
    "\n",
    "# import tweepy\n",
    "\n",
    "# import requests\n",
    "\n",
    "# tweet = requests.get(url = \"https://selling-sunset-lyrics-api.herokuapp.com/api/v1/lyrics/random\").json()\n",
    "\n",
    "# auth = tweepy.OAuthHandler(consumer_key, consumer_secret)\n",
    "# auth.set_access_token(access_key, access_key_secret)\n",
    "\n",
    "\n",
    "# api = tweepy.API(auth, wait_on_rate_limit=True)\n",
    "\n",
    "# api.update_status(\"tweet\")\n",
    "\n"
   ]
  },
  {
   "cell_type": "code",
   "execution_count": 11,
   "metadata": {},
   "outputs": [
    {
     "ename": "NameError",
     "evalue": "name 'requests' is not defined",
     "output_type": "error",
     "traceback": [
      "\u001b[0;31m---------------------------------------------------------------------------\u001b[0m",
      "\u001b[0;31mNameError\u001b[0m                                 Traceback (most recent call last)",
      "\u001b[1;32m/Users/daniel/iMadeIt/selling-sunset-twitterbot/tweeting/sunset_lyric_bot/tweet_bot.ipynb Cell 2'\u001b[0m in \u001b[0;36m<module>\u001b[0;34m\u001b[0m\n\u001b[0;32m----> <a href='vscode-notebook-cell:/Users/daniel/iMadeIt/selling-sunset-twitterbot/tweeting/sunset_lyric_bot/tweet_bot.ipynb#ch0000001?line=0'>1</a>\u001b[0m tweet \u001b[39m=\u001b[39m requests\u001b[39m.\u001b[39mget(url \u001b[39m=\u001b[39m \u001b[39m\"\u001b[39m\u001b[39mhttps://selling-sunset-lyrics-api.herokuapp.com/api/v1/lyrics/random\u001b[39m\u001b[39m\"\u001b[39m)\u001b[39m.\u001b[39mjson()\n",
      "\u001b[0;31mNameError\u001b[0m: name 'requests' is not defined"
     ]
    }
   ],
   "source": [
    "# tweet = requests.get(url = \"https://selling-sunset-lyrics-api.herokuapp.com/api/v1/lyrics/random\").json()\n"
   ]
  }
 ],
 "metadata": {
  "interpreter": {
   "hash": "31f2aee4e71d21fbe5cf8b01ff0e069b9275f58929596ceb00d14d90e3e16cd6"
  },
  "kernelspec": {
   "display_name": "Python 3.8.9 64-bit",
   "language": "python",
   "name": "python3"
  },
  "language_info": {
   "codemirror_mode": {
    "name": "ipython",
    "version": 3
   },
   "file_extension": ".py",
   "mimetype": "text/x-python",
   "name": "python",
   "nbconvert_exporter": "python",
   "pygments_lexer": "ipython3",
   "version": "3.8.9"
  },
  "orig_nbformat": 4
 },
 "nbformat": 4,
 "nbformat_minor": 2
}
